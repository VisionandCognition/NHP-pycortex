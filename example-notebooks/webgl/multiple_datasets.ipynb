{
 "cells": [
  {
   "cell_type": "code",
   "execution_count": null,
   "metadata": {
    "collapsed": false,
    "jupyter": {
     "outputs_hidden": false
    }
   },
   "outputs": [],
   "source": [
    "%matplotlib inline"
   ]
  },
  {
   "cell_type": "markdown",
   "metadata": {},
   "source": [
    "\n",
    "# Create a 3D WebGL Viewer with Multiple Datasets\n",
    "\n",
    "\n",
    "A webgl viewer displays a 3D view of brain data in a web browser\n",
    "\n",
    "Multiple datasets can be loaded into the same viewer\n",
    "\n",
    "The `priority` kwarg passed to Volume objects determines the display ordering\n",
    "\n",
    "Lower values of `priority` are displayed first\n",
    "\n",
    "In the browser you can switch between datasets with the + and - keys\n"
   ]
  },
  {
   "cell_type": "code",
   "execution_count": 1,
   "metadata": {
    "collapsed": false,
    "jupyter": {
     "outputs_hidden": false
    }
   },
   "outputs": [
    {
     "name": "stdout",
     "output_type": "stream",
     "text": [
      "Started server on port 51133\n"
     ]
    },
    {
     "data": {
      "text/plain": [
       "<JS: window.viewer>"
      ]
     },
     "execution_count": 1,
     "metadata": {},
     "output_type": "execute_result"
    }
   ],
   "source": [
    "import cortex\n",
    "\n",
    "import numpy as np\n",
    "np.random.seed(1234)\n",
    "\n",
    "# gather multiple datasets\n",
    "volume1 = cortex.Volume.random(subject='S1', xfmname='fullhead', priority=1)\n",
    "volume2 = cortex.Volume.random(subject='S1', xfmname='fullhead', priority=2)\n",
    "volume3 = cortex.Volume.random(subject='S1', xfmname='fullhead', priority=3)\n",
    "volumes = {\n",
    "\t'First Dataset': volume1,\n",
    "\t'Second Dataset': volume2,\n",
    "\t'Third Dataset': volume3,\n",
    "}\n",
    "\n",
    "# create viewer\n",
    "cortex.webgl.show(data=volumes)\n",
    "\n",
    "# a port number will then be output, for example \"Started server on port 39140\"\n",
    "# the viewer can then be accessed in a web browser, in this case at \"localhost:39140\""
   ]
  },
  {
   "cell_type": "code",
   "execution_count": null,
   "metadata": {},
   "outputs": [],
   "source": []
  }
 ],
 "metadata": {
  "kernelspec": {
   "display_name": "Python 3",
   "language": "python",
   "name": "python3"
  },
  "language_info": {
   "codemirror_mode": {
    "name": "ipython",
    "version": 3
   },
   "file_extension": ".py",
   "mimetype": "text/x-python",
   "name": "python",
   "nbconvert_exporter": "python",
   "pygments_lexer": "ipython3",
   "version": "3.7.6"
  }
 },
 "nbformat": 4,
 "nbformat_minor": 4
}
