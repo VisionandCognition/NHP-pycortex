{
 "cells": [
  {
   "cell_type": "code",
   "execution_count": null,
   "metadata": {
    "collapsed": false,
    "jupyter": {
     "outputs_hidden": false
    }
   },
   "outputs": [],
   "source": [
    "%matplotlib inline"
   ]
  },
  {
   "cell_type": "markdown",
   "metadata": {},
   "source": [
    "\n",
    "# Plot Volume Data\n",
    "\n",
    "\n",
    "This plots example volume data onto an example subject, S1, onto a flatmap\n",
    "using quickflat. In order for this to run, you have to have a flatmap for\n",
    "this subject in the pycortex filestore.\n",
    "\n",
    "The cortex.Volume object is instantiated with a numpy array of the same size\n",
    "as the scan for this subject and transform. Instead of the random test data,\n",
    "you can replace this with any numpy array of the correct dimensionality.\n",
    "\n",
    "By changing the parameters vmin and vmax, you get thresholded data, as shown\n",
    "in the colorbar for the figure.\n",
    "\n",
    "If you have NaN values within your array, those voxels show up transparent\n",
    "on the brain.\n"
   ]
  },
  {
   "cell_type": "code",
   "execution_count": null,
   "metadata": {
    "collapsed": false,
    "jupyter": {
     "outputs_hidden": false
    }
   },
   "outputs": [],
   "source": [
    "import cortex\n",
    "import numpy as np\n",
    "np.random.seed(1234)\n",
    "import matplotlib.pyplot as plt\n",
    "\n",
    "subject = 'S1'\n",
    "xfm = 'fullhead'\n",
    "\n",
    "# Creating a random dataset that is the shape for this transform with one\n",
    "# entry for each voxel\n",
    "test_data = np.random.randn(31, 100, 100)"
   ]
  },
  {
   "cell_type": "code",
   "execution_count": null,
   "metadata": {},
   "outputs": [],
   "source": [
    "vol_data = cortex.Volume.random(subject, xfm)\n",
    "cortex.webshow(vol_data)"
   ]
  },
  {
   "cell_type": "code",
   "execution_count": null,
   "metadata": {
    "collapsed": false,
    "jupyter": {
     "outputs_hidden": false
    }
   },
   "outputs": [],
   "source": [
    "# This creates a Volume object for our test dataset for the given subject\n",
    "# and transform\n",
    "vol_data = cortex.Volume(test_data, subject, xfm)\n",
    "cortex.quickshow(vol_data)\n",
    "plt.show()\n",
    "\n",
    "# Can also alter the minimum and maximum values shown on the colorbar\n",
    "vol_data_thresh = cortex.Volume(test_data, subject, xfm, vmin=-1, vmax=1)\n",
    "cortex.quickshow(vol_data_thresh)\n",
    "plt.show()\n",
    "\n",
    "# If you have NaN values, those voxels show up transparent on the brain\n",
    "test_data[10:15, :, :] = np.nan\n",
    "vol_data_nan = cortex.Volume(test_data, subject, xfm)\n",
    "cortex.quickshow(vol_data_nan)\n",
    "plt.show()"
   ]
  },
  {
   "cell_type": "code",
   "execution_count": null,
   "metadata": {},
   "outputs": [],
   "source": []
  }
 ],
 "metadata": {
  "kernelspec": {
   "display_name": "Python 3",
   "language": "python",
   "name": "python3"
  },
  "language_info": {
   "codemirror_mode": {
    "name": "ipython",
    "version": 3
   },
   "file_extension": ".py",
   "mimetype": "text/x-python",
   "name": "python",
   "nbconvert_exporter": "python",
   "pygments_lexer": "ipython3",
   "version": "3.7.4"
  }
 },
 "nbformat": 4,
 "nbformat_minor": 4
}
