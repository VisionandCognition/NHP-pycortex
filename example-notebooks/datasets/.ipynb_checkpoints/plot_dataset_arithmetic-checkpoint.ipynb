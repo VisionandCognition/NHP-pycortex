{
 "cells": [
  {
   "cell_type": "code",
   "execution_count": null,
   "metadata": {
    "collapsed": false,
    "jupyter": {
     "outputs_hidden": false
    }
   },
   "outputs": [],
   "source": [
    "%matplotlib inline"
   ]
  },
  {
   "cell_type": "markdown",
   "metadata": {},
   "source": [
    "\n",
    "# Dataset Arithmetic\n",
    "\n",
    "\n",
    "This plots example volume data onto an example subject, S1, onto a flatmap\n",
    "using quickflat. In order for this to run, you have to have a flatmap for\n",
    "this subject in the pycortex filestore.\n",
    "\n",
    "Once you have created a cortex.Volume object, you can manipulate it with\n",
    "normal arithmetic operators like +, -, *, /, and **\n"
   ]
  },
  {
   "cell_type": "code",
   "execution_count": null,
   "metadata": {
    "collapsed": false,
    "jupyter": {
     "outputs_hidden": false
    }
   },
   "outputs": [],
   "source": [
    "import cortex\n",
    "import numpy as np\n",
    "np.random.seed(1234)\n",
    "import matplotlib.pyplot as plt\n",
    "\n",
    "subject = 'S1'\n",
    "xfm = 'fullhead'\n",
    "\n",
    "# Creating a random dataset that is the shape for this transform with one\n",
    "# entry for each voxel\n",
    "test_data = np.random.randn(31, 100, 100)\n",
    "\n",
    "# This creates a Volume object for our test dataset for the given subject\n",
    "# and transform\n",
    "vol_data = cortex.Volume(test_data, subject, xfm, vmin=-2, vmax=2)\n",
    "cortex.webshow(vol_data)\n",
    "#cortex.quickshow(vol_data)\n",
    "#plt.show()"
   ]
  },
  {
   "cell_type": "code",
   "execution_count": null,
   "metadata": {
    "collapsed": false,
    "jupyter": {
     "outputs_hidden": false
    }
   },
   "outputs": [],
   "source": [
    "# Now you can do arithmetic with the Volume\n",
    "vol_plus = vol_data + 1\n",
    "cortex.quickshow(vol_plus)\n",
    "plt.show()\n",
    "\n",
    "# You can also do multiplication\n",
    "vol_mult = vol_data * 4\n",
    "cortex.quickshow(vol_mult)\n",
    "plt.show()"
   ]
  },
  {
   "cell_type": "code",
   "execution_count": null,
   "metadata": {},
   "outputs": [],
   "source": []
  }
 ],
 "metadata": {
  "kernelspec": {
   "display_name": "Python 3",
   "language": "python",
   "name": "python3"
  },
  "language_info": {
   "codemirror_mode": {
    "name": "ipython",
    "version": 3
   },
   "file_extension": ".py",
   "mimetype": "text/x-python",
   "name": "python",
   "nbconvert_exporter": "python",
   "pygments_lexer": "ipython3",
   "version": "3.7.4"
  }
 },
 "nbformat": 4,
 "nbformat_minor": 4
}
