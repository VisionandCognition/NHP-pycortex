{
 "cells": [
  {
   "cell_type": "code",
   "execution_count": null,
   "metadata": {
    "collapsed": false,
    "jupyter": {
     "outputs_hidden": false
    }
   },
   "outputs": [],
   "source": [
    "%matplotlib inline"
   ]
  },
  {
   "cell_type": "markdown",
   "metadata": {},
   "source": [
    "\n",
    "# Plot and Use Subsurface Tools\n",
    "\n",
    "\n",
    "Subsurfaces can be used for efficient operations on subsets of cortical surface\n"
   ]
  },
  {
   "cell_type": "code",
   "execution_count": null,
   "metadata": {
    "collapsed": false,
    "jupyter": {
     "outputs_hidden": false
    }
   },
   "outputs": [],
   "source": [
    "import tempfile\n",
    "\n",
    "import matplotlib.pyplot as plt\n",
    "import numpy as np\n",
    "\n",
    "import cortex.polyutils\n",
    "\n",
    "\n",
    "subject = 'S1'\n",
    "\n",
    "left, right = cortex.db.get_surf(subject, 'fiducial')\n",
    "left_surface = cortex.polyutils.Surface(left[0], left[1])\n",
    "right_surface = cortex.polyutils.Surface(right[0], right[1])"
   ]
  },
  {
   "cell_type": "markdown",
   "metadata": {},
   "source": [
    "create subsurface\n",
    "\n"
   ]
  },
  {
   "cell_type": "code",
   "execution_count": null,
   "metadata": {
    "collapsed": false,
    "jupyter": {
     "outputs_hidden": false
    }
   },
   "outputs": [],
   "source": [
    "center = 125000\n",
    "radius = 7\n",
    "\n",
    "patch = left_surface.get_geodesic_patch(center, radius=radius)\n",
    "subsurface = left_surface.create_subsurface(vertex_mask=patch['vertex_mask'])"
   ]
  },
  {
   "cell_type": "markdown",
   "metadata": {},
   "source": [
    "plot data on subsurface\n",
    "\n"
   ]
  },
  {
   "cell_type": "code",
   "execution_count": null,
   "metadata": {
    "collapsed": false,
    "jupyter": {
     "outputs_hidden": false
    }
   },
   "outputs": [],
   "source": [
    "data = subsurface.geodesic_distance([0]) + 20\n",
    "dataset = cortex.Vertex(subsurface.lift_subsurface_data(data), subject, cmap='viridis')\n",
    "cortex.quickshow(dataset)\n",
    "plt.title('example subsurface data')\n",
    "plt.show()"
   ]
  },
  {
   "cell_type": "markdown",
   "metadata": {},
   "source": [
    "plot subsurface as gif\n",
    "\n",
    "\n"
   ]
  },
  {
   "cell_type": "code",
   "execution_count": null,
   "metadata": {
    "collapsed": false,
    "jupyter": {
     "outputs_hidden": false
    }
   },
   "outputs": [],
   "source": [
    "f, path = tempfile.mkstemp()\n",
    "path = path + '.gif'\n",
    "# subsurface.plot_subsurface_rotating_gif(path=path)"
   ]
  },
  {
   "cell_type": "markdown",
   "metadata": {},
   "source": [
    "![](../../example_subsurface.gif)\n",
    "\n",
    "\n"
   ]
  },
  {
   "cell_type": "markdown",
   "metadata": {},
   "source": [
    "create many patches\n",
    "\n",
    "\n"
   ]
  },
  {
   "cell_type": "code",
   "execution_count": null,
   "metadata": {
    "collapsed": false,
    "jupyter": {
     "outputs_hidden": false
    }
   },
   "outputs": [],
   "source": [
    "patches = left_surface.get_geodesic_patches(\n",
    "    seeds=np.arange(0, 150000, 1000),\n",
    "    radius=8,\n",
    ")\n",
    "\n",
    "dataset = cortex.Vertex(\n",
    "    patches['vertex_masks'].sum(0),\n",
    "    subject,\n",
    "    cmap='viridis',\n",
    "    vmin=-1,\n",
    "    vmax=1,\n",
    ")\n",
    "cortex.quickshow(dataset)\n",
    "plt.title('patches')\n",
    "plt.show()"
   ]
  },
  {
   "cell_type": "markdown",
   "metadata": {},
   "source": [
    "create geodesic strip patch\n",
    "\n"
   ]
  },
  {
   "cell_type": "code",
   "execution_count": null,
   "metadata": {
    "collapsed": false,
    "jupyter": {
     "outputs_hidden": false
    }
   },
   "outputs": [],
   "source": [
    "patch = left_surface.get_geodesic_strip_patch(v0=70000, v1=125000, radius=5)\n",
    "\n",
    "dataset = cortex.Vertex(patch['vertex_mask'], subject, vmin=-1, vmax=1, cmap='viridis')\n",
    "cortex.quickshow(dataset)\n",
    "plt.title('strip patch')\n",
    "plt.show()\n",
    "\n",
    "dataset = cortex.Vertex(patch['coordinates'][0, :], subject, cmap='viridis')\n",
    "cortex.quickshow(dataset)\n",
    "plt.title('first coordinate, distance along central geodesic axis')\n",
    "plt.show()\n",
    "\n",
    "dataset = cortex.Vertex(patch['coordinates'][1, :], subject, cmap='viridis', vmin=-5, vmax=5)\n",
    "cortex.quickshow(dataset)\n",
    "plt.title('second coordinate, distance from central geodesic axis')\n",
    "plt.show()"
   ]
  }
 ],
 "metadata": {
  "kernelspec": {
   "display_name": "Python 3",
   "language": "python",
   "name": "python3"
  },
  "language_info": {
   "codemirror_mode": {
    "name": "ipython",
    "version": 3
   },
   "file_extension": ".py",
   "mimetype": "text/x-python",
   "name": "python",
   "nbconvert_exporter": "python",
   "pygments_lexer": "ipython3",
   "version": "3.7.4"
  }
 },
 "nbformat": 4,
 "nbformat_minor": 4
}
