{
 "cells": [
  {
   "cell_type": "markdown",
   "metadata": {},
   "source": [
    "# Python version of the analysis\n",
    "requirements:\n"
   ]
  },
  {
   "cell_type": "markdown",
   "metadata": {},
   "source": [
    "## Import FS subject\n",
    "This works for complete FS subjects. Used to fail for monkey data because there's no aseg.mgz. However, I wrote an extra function to get around that and now it works."
   ]
  },
  {
   "cell_type": "code",
   "execution_count": 1,
   "metadata": {},
   "outputs": [],
   "source": [
    "import cortex\n",
    "import cortex.surfinfo\n",
    "import os, sys, shutil\n",
    "import numpy as np\n",
    "import nibabel as nib"
   ]
  },
  {
   "cell_type": "code",
   "execution_count": 3,
   "metadata": {},
   "outputs": [],
   "source": [
    "subject='Danny' # 'bert'"
   ]
  },
  {
   "cell_type": "code",
   "execution_count": 4,
   "metadata": {},
   "outputs": [],
   "source": [
    "# freesurfer subject folder\n",
    "fsp = '/Users/chris/Dropbox/fsSYNC/subjects/' + subject\n",
    "# manual-masks path with reference volumes\n",
    "mmp = '/Users/chris/Dropbox/GIT_Support/NHP-BIDS/manual-masks/sub-' + subject.lower() + '/func'"
   ]
  },
  {
   "cell_type": "code",
   "execution_count": 5,
   "metadata": {
    "collapsed": true,
    "jupyter": {
     "outputs_hidden": true
    }
   },
   "outputs": [
    {
     "name": "stdin",
     "output_type": "stream",
     "text": [
      "Are you sure you want to overwrite this existing subject?\n",
      "This will delete all files for this subject in the filestore, including all blender cuts. Type YES\n",
      " YES\n"
     ]
    },
    {
     "name": "stdout",
     "output_type": "stream",
     "text": [
      "b'created by chris on Tue Mar  5 13:00:01 2019\\n'\n",
      "b'created by chris on Tue Mar  5 13:00:03 2019\\n'\n",
      "b'created by chris on Tue Mar  5 13:33:56 2019\\n'\n",
      "b'created by chris on Tue Mar  5 13:34:00 2019\\n'\n",
      "b'created by chris on Tue Mar  5 13:00:01 2019\\n'\n",
      "b'created by chris on Tue Mar  5 13:33:56 2019\\n'\n",
      "b'created by chris on Tue Mar  5 13:00:03 2019\\n'\n",
      "b'created by chris on Tue Mar  5 13:34:00 2019\\n'\n",
      "b'created by chris on Tue Mar  5 13:00:24 2019\\n'\n",
      "b'created by chris on Tue Mar  5 13:34:21 2019\\n'\n"
     ]
    }
   ],
   "source": [
    "# import Freesurfer subject into pycortex\n",
    "cortex.freesurfer.import_subjnhp(subject)"
   ]
  },
  {
   "cell_type": "code",
   "execution_count": 6,
   "metadata": {},
   "outputs": [],
   "source": [
    "# copy FS flatmaps to expected naming scheme (may not be necessary but is if you followed NHP-Freesurfer)\n",
    "# NB integrate this into one pipeline when you have the time!\n",
    "hemi = ['lh','rh']\n",
    "for xh in hemi:\n",
    "    src_file = fsp + '/surf/' + xh + \".full.patch.flat\"\n",
    "    trg_file = fsp + '/surf/' + xh + \".full.flat.patch.3d\"\n",
    "    shutil.copyfile(src_file,trg_file)"
   ]
  },
  {
   "cell_type": "code",
   "execution_count": 7,
   "metadata": {
    "collapsed": true,
    "jupyter": {
     "outputs_hidden": true
    }
   },
   "outputs": [
    {
     "name": "stdin",
     "output_type": "stream",
     "text": [
      "Warning: This is intended to over-write .gii files storing\n",
      "flatmap vertex locations for this subject, and will result\n",
      "in deletion of the overlays.svg file and all cached info\n",
      "for this subject (because flatmaps will fundamentally change).\n",
      "Proceed? [y]/n:  y\n"
     ]
    },
    {
     "name": "stdout",
     "output_type": "stream",
     "text": [
      "b'created by chris on Tue Mar  5 13:00:01 2019\\n'\n",
      "saving to /Users/chris/Dropbox/CURRENT_PROJECTS/NHP_MRI/pycortex/db/Danny/surfaces/flat_lh.gii\n",
      "b'created by chris on Tue Mar  5 13:33:56 2019\\n'\n",
      "saving to /Users/chris/Dropbox/CURRENT_PROJECTS/NHP_MRI/pycortex/db/Danny/surfaces/flat_rh.gii\n",
      "No overlays.svg file to delete\n"
     ]
    }
   ],
   "source": [
    "# also import FS flatmaps into pycortex\n",
    "cortex.freesurfer.import_flat(subject,\"full\")"
   ]
  },
  {
   "cell_type": "code",
   "execution_count": 8,
   "metadata": {},
   "outputs": [],
   "source": [
    "# convert the existing FS transform from ref-functional to FS-anatomical into a pycortex format\n",
    "xfm_name = \"fullhead\" # how will we call this transform\n",
    "\n",
    "# copy FS anatomy to expected filename (may not be necessary but is if you followed NHP-Freesurfer)\n",
    "# NB integrate this into one pipeline when you have the time!\n",
    "shutil.copyfile(fsp + '/mri/T1.mgz',fsp + '/mri/orig.mgz')\n",
    "\n",
    "# the tkreg file from freesurfer\n",
    "fs_dat = fsp + '/manual-masks_toFS/func/reg.fsl.dat'\n",
    "\n",
    "# functional\n",
    "func_ref = mmp + '/sub-' + subject.lower() + '_ref_func_res-1x1x1.nii.gz'\n",
    "\n",
    "# convert\n",
    "res=cortex.xfm.Transform.from_freesurfer(fs_dat,func_ref,subject).save(subject,xfm,'coord')"
   ]
  },
  {
   "cell_type": "code",
   "execution_count": null,
   "metadata": {},
   "outputs": [],
   "source": [
    "# get some stats to test\n",
    "test_data = '/Users/chris/Desktop/R2.nii.gz'"
   ]
  },
  {
   "cell_type": "code",
   "execution_count": 10,
   "metadata": {},
   "outputs": [],
   "source": [
    "xfm = \"fullhead\"\n",
    "#dv = cortex.Volume.random(subject, xfm)\n",
    "dv = cortex.Volume(test_data, subject, xfm)"
   ]
  },
  {
   "cell_type": "code",
   "execution_count": 13,
   "metadata": {
    "collapsed": true,
    "jupyter": {
     "outputs_hidden": true
    }
   },
   "outputs": [
    {
     "name": "stdout",
     "output_type": "stream",
     "text": [
      "Started server on port 2502\n"
     ]
    },
    {
     "data": {
      "text/plain": [
       "<JS: window.viewer>"
      ]
     },
     "execution_count": 13,
     "metadata": {},
     "output_type": "execute_result"
    }
   ],
   "source": [
    "# open web viewer\n",
    "cortex.webshow(dv,title='NHP')"
   ]
  },
  {
   "cell_type": "code",
   "execution_count": null,
   "metadata": {},
   "outputs": [],
   "source": [
    "dv.data"
   ]
  }
 ],
 "metadata": {
  "kernelspec": {
   "display_name": "Python 3",
   "language": "python",
   "name": "python3"
  },
  "language_info": {
   "codemirror_mode": {
    "name": "ipython",
    "version": 3
   },
   "file_extension": ".py",
   "mimetype": "text/x-python",
   "name": "python",
   "nbconvert_exporter": "python",
   "pygments_lexer": "ipython3",
   "version": "3.8.1"
  }
 },
 "nbformat": 4,
 "nbformat_minor": 4
}
